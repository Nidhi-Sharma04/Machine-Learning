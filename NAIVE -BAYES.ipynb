{
 "cells": [
  {
   "cell_type": "code",
   "execution_count": 1,
   "id": "b7b5927d",
   "metadata": {},
   "outputs": [
    {
     "name": "stdout",
     "output_type": "stream",
     "text": [
      "Predictions: [1 0]\n",
      "Accuracy: 1.0\n"
     ]
    }
   ],
   "source": [
    "from sklearn.naive_bayes import GaussianNB\n",
    "from sklearn.model_selection import train_test_split\n",
    "from sklearn.metrics import accuracy_score\n",
    "\n",
    "# ✅ Dummy Dataset (Features: word counts or numeric data)\n",
    "# Feature 1: count of \"offer\", Feature 2: count of \"win\"\n",
    "X = [[3, 5], [1, 0], [2, 1], [0, 2], [4, 4], [1, 3]]\n",
    "y = [1, 0, 0, 0, 1, 1]  # 1: Spam, 0: Not Spam\n",
    "\n",
    "# ✅ Split data into training and testing sets\n",
    "X_train, X_test, y_train, y_test = train_test_split(X, y, test_size=0.3, random_state=42)\n",
    "\n",
    "# ✅ Initialize Gaussian Naive Bayes (for numeric data)\n",
    "model = GaussianNB()\n",
    "\n",
    "# ✅ Train the model\n",
    "model.fit(X_train, y_train)\n",
    "\n",
    "# ✅ Predict on test data\n",
    "y_pred = model.predict(X_test)\n",
    "\n",
    "# ✅ Evaluate accuracy\n",
    "print(\"Predictions:\", y_pred)\n",
    "print(\"Accuracy:\", accuracy_score(y_test, y_pred))\n"
   ]
  },
  {
   "cell_type": "code",
   "execution_count": null,
   "id": "34bef2b5",
   "metadata": {},
   "outputs": [],
   "source": []
  }
 ],
 "metadata": {
  "kernelspec": {
   "display_name": "Python 3 (ipykernel)",
   "language": "python",
   "name": "python3"
  },
  "language_info": {
   "codemirror_mode": {
    "name": "ipython",
    "version": 3
   },
   "file_extension": ".py",
   "mimetype": "text/x-python",
   "name": "python",
   "nbconvert_exporter": "python",
   "pygments_lexer": "ipython3",
   "version": "3.9.13"
  }
 },
 "nbformat": 4,
 "nbformat_minor": 5
}
